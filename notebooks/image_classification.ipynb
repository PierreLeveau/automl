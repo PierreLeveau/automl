{
  "cells": [
    {
      "cell_type": "markdown",
      "metadata": {
        "id": "zYG5RYRUBaA7"
      },
      "source": [
        "# Image Classification Using AutoML"
      ]
    },
    {
      "cell_type": "markdown",
      "metadata": {
        "id": "GpmLGl2pBaA_"
      },
      "source": [
        "In this notebook, we will see how we can simply create an image classification model with AutoML to pre-annotate our dataset on the [Kili Platform](https://cloud.kili-technology.com/label/)."
      ]
    },
    {
      "cell_type": "markdown",
      "metadata": {
        "id": "KrezIAheBaBA"
      },
      "source": [
        "## Install"
      ]
    },
    {
      "cell_type": "markdown",
      "metadata": {
        "id": "8_zB5lXPBaBA"
      },
      "source": [
        "We first follow the install procedure explained in the [README.md](https://github.com/kili-technology/automl/blob/main/README.md). "
      ]
    },
    {
      "cell_type": "code",
      "execution_count": null,
      "metadata": {
        "colab": {
          "base_uri": "https://localhost:8080/"
        },
        "id": "n7gjiRZhBaBD",
        "outputId": "a10c5925-7c9a-4a09-d6f3-d31b5365598e"
      },
      "outputs": [],
      "source": [
        "!git clone https://github.com/kili-technology/automl.git"
      ]
    },
    {
      "cell_type": "code",
      "execution_count": null,
      "metadata": {
        "colab": {
          "base_uri": "https://localhost:8080/"
        },
        "id": "myizMhqQBaBE",
        "outputId": "8b7d7302-50ee-406b-a7bd-b9f4ec93b5f0"
      },
      "outputs": [],
      "source": [
        "%cd automl\n"
      ]
    },
    {
      "cell_type": "markdown",
      "metadata": {
        "id": "W0B2Ew9opfdW"
      },
      "source": [
        "Install the packages. This should take less than a minute. "
      ]
    },
    {
      "cell_type": "code",
      "execution_count": null,
      "metadata": {
        "colab": {
          "base_uri": "https://localhost:8080/"
        },
        "id": "S3KdozTHBaBE",
        "outputId": "6cb3b088-c2c5-4cd5-c09f-323fa24277e9"
      },
      "outputs": [],
      "source": [
        "%%capture\n",
        "!git submodule update --init\n",
        "!pip install -r requirements.txt -r kiliautoml/utils/ultralytics/yolov5/requirements.txt\n",
        "!pip install -e .\n",
        "!pip install kili==2.113.0"
      ]
    },
    {
      "cell_type": "markdown",
      "metadata": {
        "id": "sUgY-iz6BaBI"
      },
      "source": [
        "## Imports"
      ]
    },
    {
      "cell_type": "code",
      "execution_count": null,
      "metadata": {
        "colab": {
          "base_uri": "https://localhost:8080/"
        },
        "id": "y3u_I9GABaBJ",
        "outputId": "808913c0-4068-4e3e-8bb8-a03f17c496d1"
      },
      "outputs": [],
      "source": [
        "import os\n",
        "from getpass import getpass\n",
        "from tqdm.autonotebook import tqdm, trange\n",
        "\n",
        "from kili.client import Kili\n",
        "\n",
        "from datasets import load_dataset"
      ]
    },
    {
      "cell_type": "markdown",
      "metadata": {
        "id": "FJ3Mt1dzpBvu"
      },
      "source": [
        "Setup the python PATH to use kiliautoml."
      ]
    },
    {
      "cell_type": "code",
      "execution_count": null,
      "metadata": {
        "id": "D4u8PlTQpFSc"
      },
      "outputs": [],
      "source": [
        "os.environ['PYTHONPATH'] += \":/content/automl/\""
      ]
    },
    {
      "cell_type": "markdown",
      "metadata": {
        "id": "E8Kowm7HBaBI"
      },
      "source": [
        "After getting your API key from the Kili platform, you can setup your environment variables."
      ]
    },
    {
      "cell_type": "code",
      "execution_count": null,
      "metadata": {
        "id": "VAR3u1wZBaBI"
      },
      "outputs": [],
      "source": [
        "api_key = getpass(\"Add your API Key here: \")\n",
        "api_endpoint = \"\" # If you use Kili SaaS, use the url \"https://cloud.kili-technology.com/api/label/v2/graphql\" as endpoint"
      ]
    },
    {
      "cell_type": "markdown",
      "metadata": {
        "id": "5sxrmNqCBaBJ"
      },
      "source": [
        "## Setup a mock Kili project"
      ]
    },
    {
      "cell_type": "markdown",
      "metadata": {
        "id": "mM-vWnpFBaBK"
      },
      "source": [
        "Setup the kili connection."
      ]
    },
    {
      "cell_type": "code",
      "execution_count": null,
      "metadata": {
        "id": "3piQsuK-BaBK"
      },
      "outputs": [],
      "source": [
        "kili = Kili(api_key=api_key, api_endpoint=api_endpoint)"
      ]
    },
    {
      "cell_type": "markdown",
      "metadata": {
        "id": "pz8CpvSriJJs"
      },
      "source": [
        "### Create the project"
      ]
    },
    {
      "cell_type": "code",
      "execution_count": null,
      "metadata": {
        "id": "qua2QqZiBaBL"
      },
      "outputs": [],
      "source": [
        "json_interface = {\n",
        "    \"jobRendererWidth\": 0.2,\n",
        "    \"jobs\": {\n",
        "        \"CLASSIFICATION_JOB\": {\n",
        "            \"mlTask\": \"CLASSIFICATION\",\n",
        "            \"content\": {\n",
        "                \"categories\": {\n",
        "                    \"VEHICLE\": {\n",
        "                        \"name\": \"vehicle\"\n",
        "                    },\n",
        "                    \"NON_VEHICLE\": {\n",
        "                        \"name\": \"non vehicle\"\n",
        "                    }\n",
        "                },\n",
        "                \"input\": \"radio\"\n",
        "            },\n",
        "            \"required\": 0,\n",
        "            \"isChild\": False,\n",
        "            \"instruction\": \"Class of vehicle presence\"\n",
        "        }\n",
        "    }\n",
        "}"
      ]
    },
    {
      "cell_type": "code",
      "execution_count": null,
      "metadata": {
        "id": "aHEB9NF5BaBL"
      },
      "outputs": [],
      "source": [
        "project_id = kili.create_project(\n",
        "        title='Vehicle Classification',\n",
        "        description='Classify vehicle presence',\n",
        "        input_type='IMAGE',\n",
        "        json_interface=json_interface\n",
        ")['id']"
      ]
    },
    {
      "cell_type": "markdown",
      "metadata": {
        "id": "OnFCYRs0fxU-"
      },
      "source": [
        "### Add assets"
      ]
    },
    {
      "cell_type": "code",
      "execution_count": null,
      "metadata": {
        "id": "gdBqgt3cBaBK"
      },
      "outputs": [],
      "source": [
        "vehicle_assets = [\n",
        "    {\n",
        "        'externalId': f'image {i}',\n",
        "        'content': f\"https://storage.googleapis.com/kili-machine-learning-automl/notebooks/vehicle_classification/vehicles/image_{i}.png\",\n",
        "        'metadata': {}\n",
        "    }\n",
        "    for i in range(1000)\n",
        "]\n",
        "non_vehicle_assets = [\n",
        "    {\n",
        "        'externalId': f'image {len(vehicle_assets) + i}',\n",
        "        'content': f\"https://storage.googleapis.com/kili-machine-learning-automl/notebooks/vehicle_classification/non-vehicles/image_{i}.png\",\n",
        "        'metadata': {}\n",
        "    }\n",
        "    for i in range(1000)\n",
        "]\n",
        "assets_to_import = vehicle_assets + non_vehicle_assets"
      ]
    },
    {
      "cell_type": "markdown",
      "metadata": {
        "id": "V0rJ5DUcBaBL"
      },
      "source": [
        "Now we send the data to our Kili project."
      ]
    },
    {
      "cell_type": "code",
      "execution_count": null,
      "metadata": {
        "colab": {
          "base_uri": "https://localhost:8080/"
        },
        "id": "j6eKQeZ6fzOG",
        "outputId": "011efa05-0b71-42b7-906a-ade9ace419f3"
      },
      "outputs": [],
      "source": [
        "external_id_array = [a.get('externalId') for a in assets_to_import]\n",
        "content_array = [a.get('content') for a in assets_to_import]\n",
        "json_metadata_array = [a.get('metadata') for a in assets_to_import]\n",
        "kili.append_many_to_dataset(project_id=project_id, \n",
        "                            content_array=content_array,\n",
        "                            external_id_array=external_id_array, \n",
        "                            json_metadata_array=json_metadata_array)"
      ]
    },
    {
      "cell_type": "markdown",
      "metadata": {
        "id": "IhfaOkxrBaBM"
      },
      "source": [
        "### Add labels to assets"
      ]
    },
    {
      "cell_type": "markdown",
      "metadata": {
        "id": "L2tIiWEPHTo4"
      },
      "source": [
        "We add labels to half of the data to simulate a project where we haven't labeled much data and we want to predict the labels of the unlabeled data. "
      ]
    },
    {
      "cell_type": "code",
      "execution_count": null,
      "metadata": {
        "colab": {
          "base_uri": "https://localhost:8080/"
        },
        "id": "M2VBR8dllcOo",
        "outputId": "737ef294-9486-4660-bc36-3b32ee2b83a9"
      },
      "outputs": [],
      "source": [
        "asset_ids = kili.assets(project_id=project_id, fields=['id', 'externalId'])\n",
        "asset_ids[0]"
      ]
    },
    {
      "cell_type": "code",
      "execution_count": null,
      "metadata": {
        "colab": {
          "base_uri": "https://localhost:8080/",
          "height": 67,
          "referenced_widgets": [
            "00f0436cab5e40c48abf6394732878e4",
            "879f103297a7437eaa0abf027a95d7d7",
            "52fb8496a2444d74b5cb607bac5ddb94",
            "7d087af817aa4dc69e10a3513c45aba3",
            "0c0a804972b440ad9d853655ffe9e98f",
            "d9daae366f214415929c06c89bf33d36",
            "b701a9a6b9184ef2a6979bf5c9bb0ce4",
            "4f1b4ec68f434a669e8995485470296b",
            "1674c9da8c364fefb0d82a18bc3054a2",
            "5e3fe315b11d4449872e6bbb6b9c5e84",
            "556667283d5043929f1a1288759559ec"
          ]
        },
        "id": "2L6UIq93BaBM",
        "outputId": "bf88d9f9-1371-4fe4-ca25-12e0667845ae"
      },
      "outputs": [],
      "source": [
        "asset_ids = kili.assets(project_id=project_id, fields=['id', 'externalId'])\n",
        "\n",
        "for asset_id in tqdm(asset_ids):\n",
        "    external_id = int(asset_id[\"externalId\"].split(\" \")[1])\n",
        "    if external_id < 500:\n",
        "        kili.append_to_labels(label_asset_id=asset_id[\"id\"],\n",
        "                              json_response={\n",
        "                                  \"CLASSIFICATION_JOB\": {\n",
        "                                      \"categories\": [{\"name\": \"VEHICLE\"}]\n",
        "                                  }\n",
        "                              })\n",
        "\n",
        "    elif 999 < external_id < 1500:\n",
        "        kili.append_to_labels(label_asset_id=asset_id[\"id\"],\n",
        "                              json_response={\n",
        "                                  \"CLASSIFICATION_JOB\": {\n",
        "                                      \"categories\": [{\"name\": \"NON_VEHICLE\"}]\n",
        "                                  }\n",
        "                              })\n",
        "    else:\n",
        "        pass"
      ]
    },
    {
      "cell_type": "markdown",
      "metadata": {
        "id": "0tOtfBaABaBN"
      },
      "source": [
        "## Training a image classifier with Kiliautoml"
      ]
    },
    {
      "cell_type": "markdown",
      "metadata": {
        "id": "iqfddWnUG_R1"
      },
      "source": [
        "The following command will automatically download the labeled data in your Kili project. Then, it will choose the right model for your task, train it with this data and save it locally."
      ]
    },
    {
      "cell_type": "code",
      "execution_count": null,
      "metadata": {
        "colab": {
          "base_uri": "https://localhost:8080/"
        },
        "id": "-uwLPjF9BaBN",
        "outputId": "bdeeb975-ed9b-4ede-a9cf-6ee8a7c6fc87"
      },
      "outputs": [],
      "source": [
        "!kiliautoml train \\\n",
        "    --api-key {api_key} \\\n",
        "    --project-id {project_id}"
      ]
    },
    {
      "cell_type": "markdown",
      "metadata": {
        "id": "fda-qEzgBaBN"
      },
      "source": [
        "### Send predictions"
      ]
    },
    {
      "cell_type": "markdown",
      "metadata": {
        "id": "jMdUHgsOqQS_"
      },
      "source": [
        "Now we can use our local trained model to predict the classes of our image assets and send the prediction scores to the project on Kili. These preannotations can then be validated or corrected by annotators."
      ]
    },
    {
      "cell_type": "code",
      "execution_count": null,
      "metadata": {
        "colab": {
          "background_save": true,
          "base_uri": "https://localhost:8080/"
        },
        "id": "lud1i-v9BaBN",
        "outputId": "fe7790f8-6a69-45e2-82fc-0dec4b543774"
      },
      "outputs": [],
      "source": [
        "!kiliautoml predict \\\n",
        "    --api-key {api_key} \\\n",
        "    --project-id {project_id}"
      ]
    },
    {
      "cell_type": "markdown",
      "metadata": {
        "id": "fyPzfujpqiXv"
      },
      "source": [
        "Now you can ckeck that your assets have predictions on [Kili](https://cloud.kili-technology.com/)!"
      ]
    },
    {
      "cell_type": "markdown",
      "metadata": {
        "id": "dBIYa5GVBaBN"
      },
      "source": [
        "### Label Errors"
      ]
    },
    {
      "cell_type": "markdown",
      "metadata": {
        "id": "TVlA4PaLrjO0"
      },
      "source": [
        "This command analyses the labeled data to detect potential labeling errors and sends warnings to the concerned assets. The user can then use the `potential_label_error` filter on the project's asset exploration to find the potentially problematic assets."
      ]
    },
    {
      "cell_type": "code",
      "execution_count": null,
      "metadata": {
        "colab": {
          "base_uri": "https://localhost:8080/"
        },
        "id": "EFW4cfEHBaBN",
        "outputId": "a69660dd-7507-4ba7-a59e-6694c232f165"
      },
      "outputs": [],
      "source": [
        "!kiliautoml label_errors \\\n",
        "    --api-key {api_key} \\\n",
        "    --project-id {project_id}"
      ]
    }
  ],
  "metadata": {
    "accelerator": "GPU",
    "colab": {
      "name": "Copie de image_classification.ipynb",
      "provenance": []
    },
    "interpreter": {
      "hash": "449e565a27a23acd15c32e769a07661ae193905e7f288056cccc0b6a403de553"
    },
    "kernelspec": {
      "display_name": "Python 3.9.12 ('automl')",
      "language": "python",
      "name": "python3"
    },
    "language_info": {
      "codemirror_mode": {
        "name": "ipython",
        "version": 3
      },
      "file_extension": ".py",
      "mimetype": "text/x-python",
      "name": "python",
      "nbconvert_exporter": "python",
      "pygments_lexer": "ipython3",
      "version": "3.7.13"
    },
    "widgets": {
      "application/vnd.jupyter.widget-state+json": {
        "00f0436cab5e40c48abf6394732878e4": {
          "model_module": "@jupyter-widgets/controls",
          "model_module_version": "1.5.0",
          "model_name": "HBoxModel",
          "state": {
            "_dom_classes": [],
            "_model_module": "@jupyter-widgets/controls",
            "_model_module_version": "1.5.0",
            "_model_name": "HBoxModel",
            "_view_count": null,
            "_view_module": "@jupyter-widgets/controls",
            "_view_module_version": "1.5.0",
            "_view_name": "HBoxView",
            "box_style": "",
            "children": [
              "IPY_MODEL_879f103297a7437eaa0abf027a95d7d7",
              "IPY_MODEL_52fb8496a2444d74b5cb607bac5ddb94",
              "IPY_MODEL_7d087af817aa4dc69e10a3513c45aba3"
            ],
            "layout": "IPY_MODEL_0c0a804972b440ad9d853655ffe9e98f"
          }
        },
        "0c0a804972b440ad9d853655ffe9e98f": {
          "model_module": "@jupyter-widgets/base",
          "model_module_version": "1.2.0",
          "model_name": "LayoutModel",
          "state": {
            "_model_module": "@jupyter-widgets/base",
            "_model_module_version": "1.2.0",
            "_model_name": "LayoutModel",
            "_view_count": null,
            "_view_module": "@jupyter-widgets/base",
            "_view_module_version": "1.2.0",
            "_view_name": "LayoutView",
            "align_content": null,
            "align_items": null,
            "align_self": null,
            "border": null,
            "bottom": null,
            "display": null,
            "flex": null,
            "flex_flow": null,
            "grid_area": null,
            "grid_auto_columns": null,
            "grid_auto_flow": null,
            "grid_auto_rows": null,
            "grid_column": null,
            "grid_gap": null,
            "grid_row": null,
            "grid_template_areas": null,
            "grid_template_columns": null,
            "grid_template_rows": null,
            "height": null,
            "justify_content": null,
            "justify_items": null,
            "left": null,
            "margin": null,
            "max_height": null,
            "max_width": null,
            "min_height": null,
            "min_width": null,
            "object_fit": null,
            "object_position": null,
            "order": null,
            "overflow": null,
            "overflow_x": null,
            "overflow_y": null,
            "padding": null,
            "right": null,
            "top": null,
            "visibility": null,
            "width": null
          }
        },
        "1674c9da8c364fefb0d82a18bc3054a2": {
          "model_module": "@jupyter-widgets/controls",
          "model_module_version": "1.5.0",
          "model_name": "ProgressStyleModel",
          "state": {
            "_model_module": "@jupyter-widgets/controls",
            "_model_module_version": "1.5.0",
            "_model_name": "ProgressStyleModel",
            "_view_count": null,
            "_view_module": "@jupyter-widgets/base",
            "_view_module_version": "1.2.0",
            "_view_name": "StyleView",
            "bar_color": null,
            "description_width": ""
          }
        },
        "4f1b4ec68f434a669e8995485470296b": {
          "model_module": "@jupyter-widgets/base",
          "model_module_version": "1.2.0",
          "model_name": "LayoutModel",
          "state": {
            "_model_module": "@jupyter-widgets/base",
            "_model_module_version": "1.2.0",
            "_model_name": "LayoutModel",
            "_view_count": null,
            "_view_module": "@jupyter-widgets/base",
            "_view_module_version": "1.2.0",
            "_view_name": "LayoutView",
            "align_content": null,
            "align_items": null,
            "align_self": null,
            "border": null,
            "bottom": null,
            "display": null,
            "flex": null,
            "flex_flow": null,
            "grid_area": null,
            "grid_auto_columns": null,
            "grid_auto_flow": null,
            "grid_auto_rows": null,
            "grid_column": null,
            "grid_gap": null,
            "grid_row": null,
            "grid_template_areas": null,
            "grid_template_columns": null,
            "grid_template_rows": null,
            "height": null,
            "justify_content": null,
            "justify_items": null,
            "left": null,
            "margin": null,
            "max_height": null,
            "max_width": null,
            "min_height": null,
            "min_width": null,
            "object_fit": null,
            "object_position": null,
            "order": null,
            "overflow": null,
            "overflow_x": null,
            "overflow_y": null,
            "padding": null,
            "right": null,
            "top": null,
            "visibility": null,
            "width": null
          }
        },
        "52fb8496a2444d74b5cb607bac5ddb94": {
          "model_module": "@jupyter-widgets/controls",
          "model_module_version": "1.5.0",
          "model_name": "FloatProgressModel",
          "state": {
            "_dom_classes": [],
            "_model_module": "@jupyter-widgets/controls",
            "_model_module_version": "1.5.0",
            "_model_name": "FloatProgressModel",
            "_view_count": null,
            "_view_module": "@jupyter-widgets/controls",
            "_view_module_version": "1.5.0",
            "_view_name": "ProgressView",
            "bar_style": "success",
            "description": "",
            "description_tooltip": null,
            "layout": "IPY_MODEL_4f1b4ec68f434a669e8995485470296b",
            "max": 2000,
            "min": 0,
            "orientation": "horizontal",
            "style": "IPY_MODEL_1674c9da8c364fefb0d82a18bc3054a2",
            "value": 2000
          }
        },
        "556667283d5043929f1a1288759559ec": {
          "model_module": "@jupyter-widgets/controls",
          "model_module_version": "1.5.0",
          "model_name": "DescriptionStyleModel",
          "state": {
            "_model_module": "@jupyter-widgets/controls",
            "_model_module_version": "1.5.0",
            "_model_name": "DescriptionStyleModel",
            "_view_count": null,
            "_view_module": "@jupyter-widgets/base",
            "_view_module_version": "1.2.0",
            "_view_name": "StyleView",
            "description_width": ""
          }
        },
        "5e3fe315b11d4449872e6bbb6b9c5e84": {
          "model_module": "@jupyter-widgets/base",
          "model_module_version": "1.2.0",
          "model_name": "LayoutModel",
          "state": {
            "_model_module": "@jupyter-widgets/base",
            "_model_module_version": "1.2.0",
            "_model_name": "LayoutModel",
            "_view_count": null,
            "_view_module": "@jupyter-widgets/base",
            "_view_module_version": "1.2.0",
            "_view_name": "LayoutView",
            "align_content": null,
            "align_items": null,
            "align_self": null,
            "border": null,
            "bottom": null,
            "display": null,
            "flex": null,
            "flex_flow": null,
            "grid_area": null,
            "grid_auto_columns": null,
            "grid_auto_flow": null,
            "grid_auto_rows": null,
            "grid_column": null,
            "grid_gap": null,
            "grid_row": null,
            "grid_template_areas": null,
            "grid_template_columns": null,
            "grid_template_rows": null,
            "height": null,
            "justify_content": null,
            "justify_items": null,
            "left": null,
            "margin": null,
            "max_height": null,
            "max_width": null,
            "min_height": null,
            "min_width": null,
            "object_fit": null,
            "object_position": null,
            "order": null,
            "overflow": null,
            "overflow_x": null,
            "overflow_y": null,
            "padding": null,
            "right": null,
            "top": null,
            "visibility": null,
            "width": null
          }
        },
        "7d087af817aa4dc69e10a3513c45aba3": {
          "model_module": "@jupyter-widgets/controls",
          "model_module_version": "1.5.0",
          "model_name": "HTMLModel",
          "state": {
            "_dom_classes": [],
            "_model_module": "@jupyter-widgets/controls",
            "_model_module_version": "1.5.0",
            "_model_name": "HTMLModel",
            "_view_count": null,
            "_view_module": "@jupyter-widgets/controls",
            "_view_module_version": "1.5.0",
            "_view_name": "HTMLView",
            "description": "",
            "description_tooltip": null,
            "layout": "IPY_MODEL_5e3fe315b11d4449872e6bbb6b9c5e84",
            "placeholder": "​",
            "style": "IPY_MODEL_556667283d5043929f1a1288759559ec",
            "value": " 2000/2000 [03:06&lt;00:00,  6.05it/s]"
          }
        },
        "879f103297a7437eaa0abf027a95d7d7": {
          "model_module": "@jupyter-widgets/controls",
          "model_module_version": "1.5.0",
          "model_name": "HTMLModel",
          "state": {
            "_dom_classes": [],
            "_model_module": "@jupyter-widgets/controls",
            "_model_module_version": "1.5.0",
            "_model_name": "HTMLModel",
            "_view_count": null,
            "_view_module": "@jupyter-widgets/controls",
            "_view_module_version": "1.5.0",
            "_view_name": "HTMLView",
            "description": "",
            "description_tooltip": null,
            "layout": "IPY_MODEL_d9daae366f214415929c06c89bf33d36",
            "placeholder": "​",
            "style": "IPY_MODEL_b701a9a6b9184ef2a6979bf5c9bb0ce4",
            "value": "100%"
          }
        },
        "b701a9a6b9184ef2a6979bf5c9bb0ce4": {
          "model_module": "@jupyter-widgets/controls",
          "model_module_version": "1.5.0",
          "model_name": "DescriptionStyleModel",
          "state": {
            "_model_module": "@jupyter-widgets/controls",
            "_model_module_version": "1.5.0",
            "_model_name": "DescriptionStyleModel",
            "_view_count": null,
            "_view_module": "@jupyter-widgets/base",
            "_view_module_version": "1.2.0",
            "_view_name": "StyleView",
            "description_width": ""
          }
        },
        "d9daae366f214415929c06c89bf33d36": {
          "model_module": "@jupyter-widgets/base",
          "model_module_version": "1.2.0",
          "model_name": "LayoutModel",
          "state": {
            "_model_module": "@jupyter-widgets/base",
            "_model_module_version": "1.2.0",
            "_model_name": "LayoutModel",
            "_view_count": null,
            "_view_module": "@jupyter-widgets/base",
            "_view_module_version": "1.2.0",
            "_view_name": "LayoutView",
            "align_content": null,
            "align_items": null,
            "align_self": null,
            "border": null,
            "bottom": null,
            "display": null,
            "flex": null,
            "flex_flow": null,
            "grid_area": null,
            "grid_auto_columns": null,
            "grid_auto_flow": null,
            "grid_auto_rows": null,
            "grid_column": null,
            "grid_gap": null,
            "grid_row": null,
            "grid_template_areas": null,
            "grid_template_columns": null,
            "grid_template_rows": null,
            "height": null,
            "justify_content": null,
            "justify_items": null,
            "left": null,
            "margin": null,
            "max_height": null,
            "max_width": null,
            "min_height": null,
            "min_width": null,
            "object_fit": null,
            "object_position": null,
            "order": null,
            "overflow": null,
            "overflow_x": null,
            "overflow_y": null,
            "padding": null,
            "right": null,
            "top": null,
            "visibility": null,
            "width": null
          }
        }
      }
    }
  },
  "nbformat": 4,
  "nbformat_minor": 0
}
