{
  "cells": [
    {
      "cell_type": "markdown",
      "metadata": {
        "id": "view-in-github",
        "colab_type": "text"
      },
      "source": [
        "<a href=\"https://colab.research.google.com/github/PierreLeveau/automl/blob/main/notebooks/image_classification.ipynb\" target=\"_parent\"><img src=\"https://colab.research.google.com/assets/colab-badge.svg\" alt=\"Open In Colab\"/></a>"
      ]
    },
    {
      "cell_type": "markdown",
      "metadata": {
        "id": "zYG5RYRUBaA7"
      },
      "source": [
        "# Image Classification Using AutoML"
      ]
    },
    {
      "cell_type": "markdown",
      "metadata": {
        "id": "GpmLGl2pBaA_"
      },
      "source": [
        "In this notebook, we will see how we can simply create an image classification model with AutoML to pre-annotate our dataset on the [Kili Platform](https://cloud.kili-technology.com/label/)."
      ]
    },
    {
      "cell_type": "markdown",
      "metadata": {
        "id": "KrezIAheBaBA"
      },
      "source": [
        "## Install"
      ]
    },
    {
      "cell_type": "markdown",
      "metadata": {
        "id": "8_zB5lXPBaBA"
      },
      "source": [
        "We first follow the install procedure explained in the [README.md](https://github.com/kili-technology/automl/blob/main/README.md). "
      ]
    },
    {
      "cell_type": "code",
      "execution_count": 23,
      "metadata": {
        "id": "n7gjiRZhBaBD",
        "outputId": "54dc7c97-f1fb-4a47-ce83-8a38f1f4d57a",
        "colab": {
          "base_uri": "https://localhost:8080/"
        }
      },
      "outputs": [
        {
          "output_type": "stream",
          "name": "stdout",
          "text": [
            "Cloning into 'automl'...\n",
            "remote: Enumerating objects: 2479, done.\u001b[K\n",
            "remote: Counting objects: 100% (875/875), done.\u001b[K\n",
            "remote: Compressing objects: 100% (355/355), done.\u001b[K\n",
            "remote: Total 2479 (delta 586), reused 755 (delta 516), pack-reused 1604\u001b[K\n",
            "Receiving objects: 100% (2479/2479), 28.78 MiB | 30.01 MiB/s, done.\n",
            "Resolving deltas: 100% (1211/1211), done.\n"
          ]
        }
      ],
      "source": [
        "!git clone https://github.com/kili-technology/automl.git"
      ]
    },
    {
      "cell_type": "code",
      "execution_count": 24,
      "metadata": {
        "id": "myizMhqQBaBE",
        "outputId": "6f6b79d1-627c-406c-9275-652349620da9",
        "colab": {
          "base_uri": "https://localhost:8080/"
        }
      },
      "outputs": [
        {
          "output_type": "stream",
          "name": "stdout",
          "text": [
            "/content/automl/automl\n"
          ]
        }
      ],
      "source": [
        "%cd automl\n"
      ]
    },
    {
      "cell_type": "markdown",
      "metadata": {
        "id": "W0B2Ew9opfdW"
      },
      "source": [
        "Install the packages. This should take less than a minute. "
      ]
    },
    {
      "cell_type": "code",
      "execution_count": 25,
      "metadata": {
        "id": "S3KdozTHBaBE"
      },
      "outputs": [],
      "source": [
        "%%capture\n",
        "!git submodule update --init\n",
        "!pip install -r requirements.txt -r kiliautoml/utils/ultralytics/yolov5/requirements.txt\n",
        "!pip install -e .\n",
        "!pip install kili"
      ]
    },
    {
      "cell_type": "markdown",
      "metadata": {
        "id": "sUgY-iz6BaBI"
      },
      "source": [
        "## Imports"
      ]
    },
    {
      "cell_type": "code",
      "execution_count": 26,
      "metadata": {
        "id": "y3u_I9GABaBJ"
      },
      "outputs": [],
      "source": [
        "import os\n",
        "from getpass import getpass\n",
        "from tqdm.autonotebook import tqdm, trange\n",
        "\n",
        "from kili.client import Kili"
      ]
    },
    {
      "cell_type": "markdown",
      "metadata": {
        "id": "FJ3Mt1dzpBvu"
      },
      "source": [
        "Setup the python PATH to use kiliautoml."
      ]
    },
    {
      "cell_type": "code",
      "execution_count": 27,
      "metadata": {
        "id": "D4u8PlTQpFSc"
      },
      "outputs": [],
      "source": [
        "KILI_URL=\"https://cloud.kili-technology.com/\"\n",
        "os.environ[\"PYTHONPATH\"] += \":/content/automl/\""
      ]
    },
    {
      "cell_type": "markdown",
      "metadata": {
        "id": "E8Kowm7HBaBI"
      },
      "source": [
        "After getting your API key from the Kili platform, you can setup your environment variables."
      ]
    },
    {
      "cell_type": "code",
      "execution_count": 28,
      "metadata": {
        "id": "VAR3u1wZBaBI",
        "outputId": "e42d3c67-b017-4b26-c1f3-67cc0488cbe7",
        "colab": {
          "base_uri": "https://localhost:8080/"
        }
      },
      "outputs": [
        {
          "name": "stdout",
          "output_type": "stream",
          "text": [
            "Add your API Key here: ··········\n"
          ]
        }
      ],
      "source": [
        "api_key = getpass(\"Add your API Key here: \")\n",
        "api_endpoint = f'{KILI_URL}api/label/v2/graphql' # If you are not using Kili SaaS, change the endpoint to your configuration"
      ]
    },
    {
      "cell_type": "markdown",
      "metadata": {
        "id": "5sxrmNqCBaBJ"
      },
      "source": [
        "## Setup a mock Kili project"
      ]
    },
    {
      "cell_type": "markdown",
      "metadata": {
        "id": "mM-vWnpFBaBK"
      },
      "source": [
        "Setup the kili connection."
      ]
    },
    {
      "cell_type": "code",
      "execution_count": 29,
      "metadata": {
        "id": "3piQsuK-BaBK"
      },
      "outputs": [],
      "source": [
        "kili = Kili(api_key=api_key, api_endpoint=api_endpoint)"
      ]
    },
    {
      "cell_type": "markdown",
      "metadata": {
        "id": "pz8CpvSriJJs"
      },
      "source": [
        "### Create the project"
      ]
    },
    {
      "cell_type": "code",
      "execution_count": 30,
      "metadata": {
        "id": "qua2QqZiBaBL"
      },
      "outputs": [],
      "source": [
        "json_interface = {\n",
        "    \"jobRendererWidth\": 0.2,\n",
        "    \"jobs\": {\n",
        "        \"CLASSIFICATION_JOB\": {\n",
        "            \"mlTask\": \"CLASSIFICATION\",\n",
        "            \"content\": {\n",
        "                \"categories\": {\n",
        "                    \"VEHICLE\": {\n",
        "                        \"name\": \"vehicle\"\n",
        "                    },\n",
        "                    \"NON_VEHICLE\": {\n",
        "                        \"name\": \"non vehicle\"\n",
        "                    }\n",
        "                },\n",
        "                \"input\": \"radio\"\n",
        "            },\n",
        "            \"required\": 0,\n",
        "            \"isChild\": False,\n",
        "            \"instruction\": \"Class of vehicle presence\"\n",
        "        }\n",
        "    }\n",
        "}"
      ]
    },
    {
      "cell_type": "code",
      "execution_count": 31,
      "metadata": {
        "id": "aHEB9NF5BaBL"
      },
      "outputs": [],
      "source": [
        "project_id = kili.create_project(\n",
        "        title=\"Vehicle Classification\",\n",
        "        description=\"Classify vehicle presence\",\n",
        "        input_type=\"IMAGE\",\n",
        "        json_interface=json_interface\n",
        ")[\"id\"]"
      ]
    },
    {
      "cell_type": "markdown",
      "metadata": {
        "id": "OnFCYRs0fxU-"
      },
      "source": [
        "### Add assets"
      ]
    },
    {
      "cell_type": "code",
      "execution_count": 32,
      "metadata": {
        "id": "gdBqgt3cBaBK"
      },
      "outputs": [],
      "source": [
        "vehicle_assets = [\n",
        "    {\n",
        "        \"externalId\": f\"{i}\",\n",
        "        \"content\": f\"https://storage.googleapis.com/kili-machine-learning-automl/notebooks/vehicle_classification/vehicles/image_{i}.png\",\n",
        "        \"metadata\": {}\n",
        "    }\n",
        "    for i in range(500)\n",
        "]\n",
        "non_vehicle_assets = [\n",
        "    {\n",
        "        \"externalId\": f\"{len(vehicle_assets) + i}\",\n",
        "        \"content\": f\"https://storage.googleapis.com/kili-machine-learning-automl/notebooks/vehicle_classification/non-vehicles/image_{i}.png\",\n",
        "        \"metadata\": {}\n",
        "    }\n",
        "    for i in range(500)\n",
        "]\n",
        "assets_to_import = vehicle_assets + non_vehicle_assets"
      ]
    },
    {
      "cell_type": "markdown",
      "metadata": {
        "id": "V0rJ5DUcBaBL"
      },
      "source": [
        "Now we send the data to our Kili project."
      ]
    },
    {
      "cell_type": "code",
      "execution_count": 33,
      "metadata": {
        "id": "j6eKQeZ6fzOG",
        "outputId": "a3912adb-5dd7-4b43-fcde-29a3b81aef42",
        "colab": {
          "base_uri": "https://localhost:8080/"
        }
      },
      "outputs": [
        {
          "output_type": "execute_result",
          "data": {
            "text/plain": [
              "{'id': 'cl48kw7rx07e70lm9ejgn9fvg'}"
            ]
          },
          "metadata": {},
          "execution_count": 33
        }
      ],
      "source": [
        "external_id_array = [a.get(\"externalId\") for a in assets_to_import]\n",
        "content_array = [a.get(\"content\") for a in assets_to_import]\n",
        "json_metadata_array = [a.get(\"metadata\") for a in assets_to_import]\n",
        "kili.append_many_to_dataset(project_id=project_id, \n",
        "                            content_array=content_array,\n",
        "                            external_id_array=external_id_array, \n",
        "                            json_metadata_array=json_metadata_array)"
      ]
    },
    {
      "cell_type": "markdown",
      "metadata": {
        "id": "IhfaOkxrBaBM"
      },
      "source": [
        "### Add labels to assets"
      ]
    },
    {
      "cell_type": "markdown",
      "metadata": {
        "id": "L2tIiWEPHTo4"
      },
      "source": [
        "We add labels to half of the data to simulate a project where we haven't labeled much data and we want to predict the labels of the unlabeled data. "
      ]
    },
    {
      "cell_type": "code",
      "execution_count": 34,
      "metadata": {
        "id": "M2VBR8dllcOo",
        "outputId": "4fe72bba-02fc-4e1a-e283-e80deeadba6f",
        "colab": {
          "base_uri": "https://localhost:8080/"
        }
      },
      "outputs": [
        {
          "output_type": "stream",
          "name": "stderr",
          "text": [
            "100%|██████████| 1000/1000 [00:02<00:00, 375.61it/s]\n"
          ]
        },
        {
          "output_type": "execute_result",
          "data": {
            "text/plain": [
              "{'externalId': '0', 'id': 'cl48kw9n7189v0lpud8xk08no'}"
            ]
          },
          "metadata": {},
          "execution_count": 34
        }
      ],
      "source": [
        "asset_ids = kili.assets(project_id=project_id, fields=[\"id\", \"externalId\"])\n",
        "asset_ids[0]"
      ]
    },
    {
      "cell_type": "code",
      "execution_count": 35,
      "metadata": {
        "id": "2L6UIq93BaBM",
        "outputId": "c80bd43a-db08-43ff-f97f-5684d09967b1",
        "colab": {
          "base_uri": "https://localhost:8080/",
          "height": 67,
          "referenced_widgets": [
            "04777e1d60864f9db52a04584976ab4a",
            "90532c73edce4865809ff4670f71a622",
            "92776c3f99894fd28c2684a4dfb40404",
            "64808c979dc945598bdd747dbba4c691",
            "e84aff33e07143a397e0a09cbdcb94a5",
            "c8f5d373e1dc44b69113e43e6b6d33da",
            "9064495e8a9a4335ae0f733dff3dc8d2",
            "d6605149a467450886f538e9c53e2579",
            "4b62c067049643fa98e1cf74df216ad7",
            "05706e7b3db9479881ae60d7b6035018",
            "3afc9f9bdd1c4ef7b5e451dd7d65d75c"
          ]
        }
      },
      "outputs": [
        {
          "output_type": "stream",
          "name": "stderr",
          "text": [
            "100%|██████████| 1000/1000 [00:02<00:00, 412.91it/s]\n"
          ]
        },
        {
          "output_type": "display_data",
          "data": {
            "text/plain": [
              "  0%|          | 0/1000 [00:00<?, ?it/s]"
            ],
            "application/vnd.jupyter.widget-view+json": {
              "version_major": 2,
              "version_minor": 0,
              "model_id": "04777e1d60864f9db52a04584976ab4a"
            }
          },
          "metadata": {}
        }
      ],
      "source": [
        "asset_ids = kili.assets(project_id=project_id, fields=[\"id\", \"externalId\"], first=1000)\n",
        "\n",
        "for asset_id in tqdm(asset_ids):\n",
        "    external_id = int(asset_id[\"externalId\"])\n",
        "    if external_id < 300:\n",
        "        kili.append_to_labels(label_asset_id=asset_id[\"id\"],\n",
        "                              json_response={\n",
        "                                  \"CLASSIFICATION_JOB\": {\n",
        "                                      \"categories\": [{\"name\": \"VEHICLE\"}]\n",
        "                                  }\n",
        "                              })\n",
        "\n",
        "    elif 499 < external_id < 800:\n",
        "        kili.append_to_labels(label_asset_id=asset_id[\"id\"],\n",
        "                              json_response={\n",
        "                                  \"CLASSIFICATION_JOB\": {\n",
        "                                      \"categories\": [{\"name\": \"NON_VEHICLE\"}]\n",
        "                                  }\n",
        "                              })\n",
        "    else:\n",
        "        pass"
      ]
    },
    {
      "cell_type": "markdown",
      "source": [
        "You can now click on the following link to see the assets in your project:"
      ],
      "metadata": {
        "id": "dd3qerFeO7Rt"
      }
    },
    {
      "cell_type": "code",
      "source": [
        "print(f\"{KILI_URL}label/projects/{project_id}/menu/queue?currentPage=1&pageSize=20\")"
      ],
      "metadata": {
        "id": "r31azkPdO66e",
        "outputId": "90b087f8-056f-4f83-db95-ccaac7e18f86",
        "colab": {
          "base_uri": "https://localhost:8080/"
        }
      },
      "execution_count": 36,
      "outputs": [
        {
          "output_type": "stream",
          "name": "stdout",
          "text": [
            "https://cloud.kili-technology.com/label/projects/cl48kw7rx07e70lm9ejgn9fvg/menu/queue?currentPage=1&pageSize=20\n"
          ]
        }
      ]
    },
    {
      "cell_type": "markdown",
      "metadata": {
        "id": "0tOtfBaABaBN"
      },
      "source": [
        "## Training a image classifier with Kiliautoml"
      ]
    },
    {
      "cell_type": "markdown",
      "metadata": {
        "id": "iqfddWnUG_R1"
      },
      "source": [
        "The following command will automatically download the labeled data in your Kili project. Then, it will choose the right model for your task, train it with this data and save it locally."
      ]
    },
    {
      "cell_type": "code",
      "execution_count": 37,
      "metadata": {
        "id": "-uwLPjF9BaBN",
        "outputId": "5d2f25bc-00a0-4c7c-d9ce-1eadac87c49d",
        "colab": {
          "base_uri": "https://localhost:8080/"
        }
      },
      "outputs": [
        {
          "output_type": "stream",
          "name": "stdout",
          "text": [
            "Loading KiliAutoML...\n",
            "100% 1/1 [00:00<00:00,  2.03it/s]\n",
            "\u001b[1m\u001b[33mkili:\u001b[0m Downloading assets with status in ['LABELED', 'TO_REVIEW', 'REVIEWED'] from Kili project\n",
            "100% 600/600 [00:01<00:00, 323.55it/s]\n",
            "\u001b[1m\u001b[33mkili:\u001b[0m Training on job: CLASSIFICATION_JOB\n",
            "\u001b[1m\u001b[33mkili:\u001b[0m defaulting to model_repository=torchvision\n",
            "\u001b[1m\u001b[33mkili:\u001b[0m defaulting to model_name=efficientnet_b0\n",
            "/content/automl/kiliautoml/models/_pytorchvision_image_classification.py:93: UserWarning: Wandb is not supported for this model.\n",
            "  warnings.warn(\"Wandb is not supported for this model.\")\n",
            "\u001b[1m\u001b[33mkili:\u001b[0m Downloading images to folder /root/.cache/kili/automl/cl48kw7rx07e70lm9ejgn9fvg/CLASSIFICATION_JOB/torchvision/data\n",
            "Downloading images: 100% 600/600 [04:49<00:00,  2.07it/s]\n",
            "Initialization of the model with N=2 classes\n",
            "Downloading: \"https://download.pytorch.org/models/efficientnet_b0_rwightman-3dd342df.pth\" to /root/.cache/torch/hub/checkpoints/efficientnet_b0_rwightman-3dd342df.pth\n",
            "100% 20.5M/20.5M [00:01<00:00, 18.7MB/s]\n",
            "Training - Epoch: 100% 30/30 [02:23<00:00,  4.78s/it]\n",
            "\u001b[1m\u001b[33mkili:\u001b[0m\n",
            "job_name              training_loss\n",
            "------------------  ---------------\n",
            "CLASSIFICATION_JOB         0.025344\n"
          ]
        }
      ],
      "source": [
        "!kiliautoml train \\\n",
        "    --api-key {api_key} \\\n",
        "    --project-id {project_id} \\\n",
        "    --epochs 30"
      ]
    },
    {
      "cell_type": "markdown",
      "metadata": {
        "id": "fda-qEzgBaBN"
      },
      "source": [
        "### Send predictions"
      ]
    },
    {
      "cell_type": "markdown",
      "metadata": {
        "id": "jMdUHgsOqQS_"
      },
      "source": [
        "Now we can use our local trained model to predict the classes of our image assets and send the prediction scores to the project on Kili. These preannotations can then be validated or corrected by annotators."
      ]
    },
    {
      "cell_type": "code",
      "execution_count": 38,
      "metadata": {
        "id": "lud1i-v9BaBN",
        "outputId": "23b8be37-2ed1-4596-bb62-a11e9526e9ae",
        "colab": {
          "base_uri": "https://localhost:8080/"
        }
      },
      "outputs": [
        {
          "output_type": "stream",
          "name": "stdout",
          "text": [
            "Loading KiliAutoML...\n",
            "100% 1/1 [00:00<00:00,  2.08it/s]\n",
            "\u001b[1m\u001b[33mkili:\u001b[0m Downloading assets with status in ['TODO', 'ONGOING'] from Kili project\n",
            "100% 400/400 [00:01<00:00, 332.85it/s]\n",
            "\u001b[1m\u001b[33mkili:\u001b[0m Predicting annotations for job: CLASSIFICATION_JOB\n",
            "\u001b[1m\u001b[33mkili:\u001b[0m defaulting to model_repository=torchvision\n",
            "\u001b[1m\u001b[33mkili:\u001b[0m defaulting to model_name=efficientnet_b0\n",
            "\u001b[1m\u001b[33mkili:\u001b[0m Downloading images to folder /root/.cache/kili/automl/cl48kw7rx07e70lm9ejgn9fvg/CLASSIFICATION_JOB/torchvision/data\n",
            "Downloading images: 100% 400/400 [03:12<00:00,  2.08it/s]\n",
            "Initialization of the model with N=2 classes\n",
            "\u001b[1m\u001b[33mkili:\u001b[0m JobPredictions: 400 predictions successfully created for job CLASSIFICATION_JOB.\n"
          ]
        }
      ],
      "source": [
        "!kiliautoml predict \\\n",
        "    --api-key {api_key} \\\n",
        "    --project-id {project_id}"
      ]
    },
    {
      "cell_type": "markdown",
      "metadata": {
        "id": "fyPzfujpqiXv"
      },
      "source": [
        "Now you can ckeck that your assets have predictions on [Kili](https://cloud.kili-technology.com/)!"
      ]
    },
    {
      "cell_type": "code",
      "source": [
        "print(f\"{KILI_URL}label/projects/{project_id}/menu/queue?currentPage=1&pageSize=20\")"
      ],
      "metadata": {
        "id": "sgH92N1CLn55"
      },
      "execution_count": null,
      "outputs": []
    },
    {
      "cell_type": "markdown",
      "metadata": {
        "id": "dBIYa5GVBaBN"
      },
      "source": [
        "### Label Errors"
      ]
    },
    {
      "cell_type": "markdown",
      "metadata": {
        "id": "F-bjSezE_iGi"
      },
      "source": [
        "You can add wrong labels to a small portion of the data to simulate a project where some data is incorrectly labeled. \n"
      ]
    },
    {
      "cell_type": "code",
      "execution_count": 42,
      "metadata": {
        "id": "ja5jAvzd_iGi",
        "outputId": "13398955-89e1-476a-f8ac-840a2b882aec",
        "colab": {
          "base_uri": "https://localhost:8080/",
          "height": 67,
          "referenced_widgets": [
            "736dd37287df4f8dbfab77469741dc87",
            "7cd88ba91ce648b998b7f4e8c8d90c93",
            "463f36759b1a43ee9b46f7ee055c389d",
            "c624defc6d0840ffa27a4c985cba8e3f",
            "164b227894b7437c8c6e332d7a913ea9",
            "f80b2ebe44424dc9ace7b4e2af6a170a",
            "54113bad8329474db3b9ae05d863e14a",
            "cbfc3894fa93462094c920064eab9592",
            "530c39504d1443edbd060f1c2f8e41d5",
            "9b46176d7f494c30928f56961eff54c7",
            "cdd21b6a66f44be3aa62678b852f19da"
          ]
        }
      },
      "outputs": [
        {
          "output_type": "stream",
          "name": "stderr",
          "text": [
            "100%|██████████| 1000/1000 [00:02<00:00, 365.53it/s]\n"
          ]
        },
        {
          "output_type": "display_data",
          "data": {
            "text/plain": [
              "  0%|          | 0/1000 [00:00<?, ?it/s]"
            ],
            "application/vnd.jupyter.widget-view+json": {
              "version_major": 2,
              "version_minor": 0,
              "model_id": "736dd37287df4f8dbfab77469741dc87"
            }
          },
          "metadata": {}
        }
      ],
      "source": [
        "asset_ids = kili.assets(project_id=project_id, fields=['id', 'externalId'])\n",
        "\n",
        "for asset_id in tqdm(asset_ids):\n",
        "    external_id = int(asset_id[\"externalId\"])\n",
        "    if 299 < external_id < 310:\n",
        "        kili.append_to_labels(label_asset_id=asset_id[\"id\"],\n",
        "                              json_response={\n",
        "                                  \"CLASSIFICATION_JOB\": {\n",
        "                                      \"categories\": [{\"name\": \"NON_VEHICLE\"}]\n",
        "                                  }\n",
        "                              })\n",
        "\n",
        "    elif 799 < external_id < 810:\n",
        "        kili.append_to_labels(label_asset_id=asset_id[\"id\"],\n",
        "                              json_response={\n",
        "                                  \"CLASSIFICATION_JOB\": {\n",
        "                                      \"categories\": [{\"name\": \"VEHICLE\"}]\n",
        "                                  }\n",
        "                              })\n",
        "    else:\n",
        "        pass"
      ]
    },
    {
      "cell_type": "markdown",
      "metadata": {
        "id": "TVlA4PaLrjO0"
      },
      "source": [
        "This command analyses the labeled data to detect potential labeling errors and sends warnings to the concerned assets. The user can then use the `potential_label_error` filter on the project's asset exploration to find the potentially problematic assets."
      ]
    },
    {
      "cell_type": "code",
      "execution_count": 43,
      "metadata": {
        "id": "EFW4cfEHBaBN",
        "outputId": "8642aadf-e6d8-45e5-a460-faf80c5206ef",
        "colab": {
          "base_uri": "https://localhost:8080/"
        }
      },
      "outputs": [
        {
          "output_type": "stream",
          "name": "stdout",
          "text": [
            "Loading KiliAutoML...\n",
            "100% 1/1 [00:00<00:00,  2.08it/s]\n",
            "\u001b[1m\u001b[33mkili:\u001b[0m Detecting errors for job: CLASSIFICATION_JOB\n",
            "\u001b[1m\u001b[33mkili:\u001b[0m Downloading assets with status in ['LABELED', 'TO_REVIEW', 'REVIEWED'] from Kili project\n",
            "100% 620/620 [00:01<00:00, 313.20it/s]\n",
            "\u001b[1m\u001b[33mkili:\u001b[0m defaulting to model_repository=torchvision\n",
            "\u001b[1m\u001b[33mkili:\u001b[0m defaulting to model_name=efficientnet_b0\n",
            "\u001b[1m\u001b[33mkili:\u001b[0m Downloading images to folder /root/.cache/kili/automl/cl48kw7rx07e70lm9ejgn9fvg/CLASSIFICATION_JOB/torchvision/data\n",
            "Downloading images: 100% 620/620 [00:01<00:00, 474.72it/s]\n",
            "Training and predicting on several folds:   0% 0/4 [00:00<?, ?it/s]Initialization of the model with N=2 classes\n",
            "\n",
            "Training - Epoch:   0% 0/50 [00:00<?, ?it/s]\u001b[A\n",
            "Training - Epoch:   2% 1/50 [00:04<03:48,  4.66s/it]\u001b[A\n",
            "Training - Epoch:   4% 2/50 [00:08<03:12,  4.01s/it]\u001b[A\n",
            "Training - Epoch:   6% 3/50 [00:11<02:58,  3.79s/it]\u001b[A\n",
            "Training - Epoch:   8% 4/50 [00:15<02:50,  3.71s/it]\u001b[A\n",
            "Training - Epoch:  10% 5/50 [00:18<02:44,  3.66s/it]\u001b[A\n",
            "Training - Epoch:  12% 6/50 [00:22<02:41,  3.66s/it]\u001b[A\n",
            "Training - Epoch:  14% 7/50 [00:26<02:38,  3.68s/it]\u001b[A\n",
            "Training - Epoch:  16% 8/50 [00:29<02:33,  3.65s/it]\u001b[A\n",
            "Training - Epoch:  18% 9/50 [00:33<02:28,  3.62s/it]\u001b[A\n",
            "Training - Epoch:  20% 10/50 [00:36<02:23,  3.59s/it]\u001b[A\n",
            "Training - Epoch:  22% 11/50 [00:40<02:19,  3.57s/it]\u001b[A\n",
            "Training - Epoch:  24% 12/50 [00:44<02:15,  3.57s/it]\u001b[A\n",
            "Training - Epoch:  26% 13/50 [00:47<02:11,  3.57s/it]\u001b[A\n",
            "Training - Epoch:  28% 14/50 [00:51<02:10,  3.61s/it]\u001b[A\n",
            "Training - Epoch:  30% 15/50 [00:54<02:06,  3.62s/it]\u001b[A\n",
            "Training - Epoch:  32% 16/50 [00:58<02:02,  3.59s/it]\u001b[A\n",
            "Training - Epoch:  34% 17/50 [01:02<01:58,  3.59s/it]\u001b[A\n",
            "Training - Epoch:  36% 18/50 [01:05<01:54,  3.58s/it]\u001b[A\n",
            "Training - Epoch:  38% 19/50 [01:09<01:50,  3.57s/it]\u001b[A\n",
            "Training - Epoch:  40% 20/50 [01:12<01:46,  3.56s/it]\u001b[A\n",
            "Training - Epoch:  42% 21/50 [01:16<01:43,  3.58s/it]\u001b[A\n",
            "Training - Epoch:  44% 22/50 [01:19<01:40,  3.58s/it]\u001b[A\n",
            "Training - Epoch:  46% 23/50 [01:23<01:36,  3.58s/it]\u001b[A\n",
            "Training - Epoch:  48% 24/50 [01:27<01:33,  3.58s/it]\u001b[A\n",
            "Training - Epoch:  50% 25/50 [01:30<01:29,  3.57s/it]\u001b[A\n",
            "Training - Epoch:  52% 26/50 [01:34<01:25,  3.57s/it]\u001b[A\n",
            "Training - Epoch:  54% 27/50 [01:37<01:21,  3.56s/it]\u001b[A\n",
            "Training - Epoch:  56% 28/50 [01:41<01:18,  3.56s/it]\u001b[A\n",
            "Training - Epoch:  58% 29/50 [01:44<01:15,  3.57s/it]\u001b[A\n",
            "Training - Epoch:  60% 30/50 [01:48<01:12,  3.61s/it]\u001b[A\n",
            "Training - Epoch:  62% 31/50 [01:52<01:08,  3.61s/it]\u001b[A\n",
            "Training - Epoch:  64% 32/50 [01:55<01:04,  3.59s/it]\u001b[A\n",
            "Training - Epoch:  66% 33/50 [01:59<01:01,  3.60s/it]\u001b[A\n",
            "Training - Epoch:  68% 34/50 [02:02<00:57,  3.60s/it]\u001b[A\n",
            "Training - Epoch:  70% 35/50 [02:06<00:54,  3.61s/it]\u001b[A\n",
            "Training - Epoch:  72% 36/50 [02:10<00:50,  3.63s/it]\u001b[A\n",
            "Training - Epoch:  74% 37/50 [02:14<00:47,  3.67s/it]\u001b[A\n",
            "Training - Epoch:  76% 38/50 [02:17<00:44,  3.71s/it]\u001b[A\n",
            "Training - Epoch:  78% 39/50 [02:21<00:40,  3.73s/it]\u001b[A\n",
            "Training - Epoch:  80% 40/50 [02:25<00:37,  3.74s/it]\u001b[A\n",
            "Training - Epoch:  82% 41/50 [02:28<00:33,  3.70s/it]\u001b[A\n",
            "Training - Epoch:  84% 42/50 [02:32<00:29,  3.68s/it]\u001b[A\n",
            "Training - Epoch:  86% 43/50 [02:36<00:25,  3.65s/it]\u001b[A\n",
            "Training - Epoch:  88% 44/50 [02:39<00:21,  3.64s/it]\u001b[A\n",
            "Training - Epoch:  90% 45/50 [02:43<00:18,  3.64s/it]\u001b[A\n",
            "Training - Epoch:  92% 46/50 [02:47<00:14,  3.64s/it]\u001b[A\n",
            "Training - Epoch:  94% 47/50 [02:50<00:10,  3.62s/it]\u001b[A\n",
            "Training - Epoch:  96% 48/50 [02:54<00:07,  3.62s/it]\u001b[A\n",
            "Training - Epoch:  98% 49/50 [02:57<00:03,  3.61s/it]\u001b[A\n",
            "Training - Epoch: 100% 50/50 [03:01<00:00,  3.63s/it]\n",
            "Training and predicting on several folds:  25% 1/4 [03:06<09:20, 186.68s/it]Initialization of the model with N=2 classes\n",
            "\n",
            "Training - Epoch:   0% 0/50 [00:00<?, ?it/s]\u001b[A\n",
            "Training - Epoch:   2% 1/50 [00:03<02:57,  3.63s/it]\u001b[A\n",
            "Training - Epoch:   4% 2/50 [00:07<02:55,  3.66s/it]\u001b[A\n",
            "Training - Epoch:   6% 3/50 [00:10<02:51,  3.65s/it]\u001b[A\n",
            "Training - Epoch:   8% 4/50 [00:14<02:47,  3.64s/it]\u001b[A\n",
            "Training - Epoch:  10% 5/50 [00:18<02:43,  3.63s/it]\u001b[A\n",
            "Training - Epoch:  12% 6/50 [00:21<02:40,  3.65s/it]\u001b[A\n",
            "Training - Epoch:  14% 7/50 [00:25<02:38,  3.68s/it]\u001b[A\n",
            "Training - Epoch:  16% 8/50 [00:29<02:34,  3.68s/it]\u001b[A\n",
            "Training - Epoch:  18% 9/50 [00:33<02:32,  3.72s/it]\u001b[A\n",
            "Training - Epoch:  20% 10/50 [00:37<02:31,  3.78s/it]\u001b[A\n",
            "Training - Epoch:  22% 11/50 [00:40<02:27,  3.77s/it]\u001b[A\n",
            "Training - Epoch:  24% 12/50 [00:44<02:21,  3.72s/it]\u001b[A\n",
            "Training - Epoch:  26% 13/50 [00:47<02:16,  3.68s/it]\u001b[A\n",
            "Training - Epoch:  28% 14/50 [00:51<02:11,  3.65s/it]\u001b[A\n",
            "Training - Epoch:  30% 15/50 [00:55<02:07,  3.64s/it]\u001b[A\n",
            "Training - Epoch:  32% 16/50 [00:58<02:03,  3.63s/it]\u001b[A\n",
            "Training - Epoch:  34% 17/50 [01:02<02:00,  3.64s/it]\u001b[A\n",
            "Training - Epoch:  36% 18/50 [01:06<01:56,  3.63s/it]\u001b[A\n",
            "Training - Epoch:  38% 19/50 [01:09<01:52,  3.62s/it]\u001b[A\n",
            "Training - Epoch:  40% 20/50 [01:13<01:52,  3.76s/it]\u001b[A\n",
            "Training - Epoch:  42% 21/50 [01:17<01:47,  3.71s/it]\u001b[A\n",
            "Training - Epoch:  44% 22/50 [01:20<01:42,  3.68s/it]\u001b[A\n",
            "Training - Epoch:  46% 23/50 [01:24<01:39,  3.70s/it]\u001b[A\n",
            "Training - Epoch:  48% 24/50 [01:28<01:35,  3.67s/it]\u001b[A\n",
            "Training - Epoch:  50% 25/50 [01:31<01:31,  3.65s/it]\u001b[A\n",
            "Training - Epoch:  52% 26/50 [01:35<01:27,  3.67s/it]\u001b[A\n",
            "Training - Epoch:  54% 27/50 [01:39<01:24,  3.69s/it]\u001b[A\n",
            "Training - Epoch:  56% 28/50 [01:43<01:21,  3.69s/it]\u001b[A\n",
            "Training - Epoch:  58% 29/50 [01:46<01:17,  3.71s/it]\u001b[A\n",
            "Training - Epoch:  60% 30/50 [01:50<01:14,  3.72s/it]\u001b[A\n",
            "Training - Epoch:  62% 31/50 [01:54<01:10,  3.72s/it]\u001b[A\n",
            "Training - Epoch:  64% 32/50 [01:57<01:07,  3.73s/it]\u001b[A\n",
            "Training - Epoch:  66% 33/50 [02:01<01:03,  3.74s/it]\u001b[A\n",
            "Training - Epoch:  68% 34/50 [02:05<00:59,  3.74s/it]\u001b[A\n",
            "Training - Epoch:  70% 35/50 [02:09<00:56,  3.74s/it]\u001b[A\n",
            "Training - Epoch:  72% 36/50 [02:12<00:52,  3.72s/it]\u001b[A\n",
            "Training - Epoch:  74% 37/50 [02:16<00:48,  3.73s/it]\u001b[A\n",
            "Training - Epoch:  76% 38/50 [02:20<00:44,  3.74s/it]\u001b[A\n",
            "Training - Epoch:  78% 39/50 [02:24<00:40,  3.72s/it]\u001b[A\n",
            "Training - Epoch:  80% 40/50 [02:27<00:37,  3.71s/it]\u001b[A\n",
            "Training - Epoch:  82% 41/50 [02:31<00:33,  3.68s/it]\u001b[A\n",
            "Training - Epoch:  84% 42/50 [02:35<00:29,  3.68s/it]\u001b[A\n",
            "Training - Epoch:  86% 43/50 [02:38<00:25,  3.66s/it]\u001b[A\n",
            "Training - Epoch:  88% 44/50 [02:42<00:21,  3.64s/it]\u001b[A\n",
            "Training - Epoch:  90% 45/50 [02:45<00:18,  3.65s/it]\u001b[A\n",
            "Training - Epoch:  92% 46/50 [02:49<00:14,  3.67s/it]\u001b[A\n",
            "Training - Epoch:  94% 47/50 [02:53<00:11,  3.67s/it]\u001b[A\n",
            "Training - Epoch:  96% 48/50 [02:56<00:07,  3.66s/it]\u001b[A\n",
            "Training - Epoch:  98% 49/50 [03:00<00:03,  3.69s/it]\u001b[A\n",
            "Training - Epoch: 100% 50/50 [03:04<00:00,  3.69s/it]\n",
            "Training and predicting on several folds:  50% 2/4 [06:11<06:11, 185.79s/it]Initialization of the model with N=2 classes\n",
            "\n",
            "Training - Epoch:   0% 0/50 [00:00<?, ?it/s]\u001b[A\n",
            "Training - Epoch:   2% 1/50 [00:03<03:01,  3.70s/it]\u001b[A\n",
            "Training - Epoch:   4% 2/50 [00:07<02:58,  3.73s/it]\u001b[A\n",
            "Training - Epoch:   6% 3/50 [00:11<02:54,  3.71s/it]\u001b[A\n",
            "Training - Epoch:   8% 4/50 [00:14<02:50,  3.71s/it]\u001b[A\n",
            "Training - Epoch:  10% 5/50 [00:18<02:45,  3.67s/it]\u001b[A\n",
            "Training - Epoch:  12% 6/50 [00:22<02:40,  3.64s/it]\u001b[A\n",
            "Training - Epoch:  14% 7/50 [00:25<02:36,  3.63s/it]\u001b[A\n",
            "Training - Epoch:  16% 8/50 [00:29<02:33,  3.65s/it]\u001b[A\n",
            "Training - Epoch:  18% 9/50 [00:32<02:29,  3.64s/it]\u001b[A\n",
            "Training - Epoch:  20% 10/50 [00:36<02:26,  3.66s/it]\u001b[A\n",
            "Training - Epoch:  22% 11/50 [00:40<02:23,  3.67s/it]\u001b[A\n",
            "Training - Epoch:  24% 12/50 [00:44<02:19,  3.68s/it]\u001b[A\n",
            "Training - Epoch:  26% 13/50 [00:47<02:16,  3.70s/it]\u001b[A\n",
            "Training - Epoch:  28% 14/50 [00:51<02:11,  3.66s/it]\u001b[A\n",
            "Training - Epoch:  30% 15/50 [00:54<02:07,  3.65s/it]\u001b[A\n",
            "Training - Epoch:  32% 16/50 [00:58<02:03,  3.65s/it]\u001b[A\n",
            "Training - Epoch:  34% 17/50 [01:02<02:00,  3.65s/it]\u001b[A\n",
            "Training - Epoch:  36% 18/50 [01:06<01:57,  3.68s/it]\u001b[A\n",
            "Training - Epoch:  38% 19/50 [01:09<01:53,  3.67s/it]\u001b[A\n",
            "Training - Epoch:  40% 20/50 [01:13<01:49,  3.65s/it]\u001b[A\n",
            "Training - Epoch:  42% 21/50 [01:16<01:46,  3.66s/it]\u001b[A\n",
            "Training - Epoch:  44% 22/50 [01:20<01:42,  3.68s/it]\u001b[A\n",
            "Training - Epoch:  46% 23/50 [01:24<01:39,  3.67s/it]\u001b[A\n",
            "Training - Epoch:  48% 24/50 [01:27<01:35,  3.66s/it]\u001b[A\n",
            "Training - Epoch:  50% 25/50 [01:31<01:30,  3.64s/it]\u001b[A\n",
            "Training - Epoch:  52% 26/50 [01:35<01:27,  3.63s/it]\u001b[A\n",
            "Training - Epoch:  54% 27/50 [01:38<01:23,  3.62s/it]\u001b[A\n",
            "Training - Epoch:  56% 28/50 [01:42<01:19,  3.61s/it]\u001b[A\n",
            "Training - Epoch:  58% 29/50 [01:45<01:15,  3.62s/it]\u001b[A\n",
            "Training - Epoch:  60% 30/50 [01:49<01:12,  3.61s/it]\u001b[A\n",
            "Training - Epoch:  62% 31/50 [01:53<01:08,  3.61s/it]\u001b[A\n",
            "Training - Epoch:  64% 32/50 [01:56<01:05,  3.62s/it]\u001b[A\n",
            "Training - Epoch:  66% 33/50 [02:00<01:01,  3.61s/it]\u001b[A\n",
            "Training - Epoch:  68% 34/50 [02:04<00:58,  3.63s/it]\u001b[A\n",
            "Training - Epoch:  70% 35/50 [02:07<00:55,  3.68s/it]\u001b[A\n",
            "Training - Epoch:  72% 36/50 [02:11<00:51,  3.71s/it]\u001b[A\n",
            "Training - Epoch:  74% 37/50 [02:15<00:48,  3.70s/it]\u001b[A\n",
            "Training - Epoch:  76% 38/50 [02:18<00:44,  3.68s/it]\u001b[A\n",
            "Training - Epoch:  78% 39/50 [02:22<00:40,  3.66s/it]\u001b[A\n",
            "Training - Epoch:  80% 40/50 [02:26<00:36,  3.65s/it]\u001b[A\n",
            "Training - Epoch:  82% 41/50 [02:29<00:32,  3.64s/it]\u001b[A\n",
            "Training - Epoch:  84% 42/50 [02:33<00:28,  3.62s/it]\u001b[A\n",
            "Training - Epoch:  86% 43/50 [02:37<00:25,  3.67s/it]\u001b[A\n",
            "Training - Epoch:  88% 44/50 [02:40<00:22,  3.70s/it]\u001b[A\n",
            "Training - Epoch:  90% 45/50 [02:44<00:18,  3.68s/it]\u001b[A\n",
            "Training - Epoch:  92% 46/50 [02:48<00:14,  3.64s/it]\u001b[A\n",
            "Training - Epoch:  94% 47/50 [02:51<00:10,  3.62s/it]\u001b[A\n",
            "Training - Epoch:  96% 48/50 [02:55<00:07,  3.76s/it]\u001b[A\n",
            "Training - Epoch:  98% 49/50 [02:59<00:03,  3.77s/it]\u001b[A\n",
            "Training - Epoch: 100% 50/50 [03:03<00:00,  3.67s/it]\n",
            "Training and predicting on several folds:  75% 3/4 [09:15<03:05, 185.00s/it]Initialization of the model with N=2 classes\n",
            "\n",
            "Training - Epoch:   0% 0/50 [00:00<?, ?it/s]\u001b[A\n",
            "Training - Epoch:   2% 1/50 [00:03<03:03,  3.74s/it]\u001b[A\n",
            "Training - Epoch:   4% 2/50 [00:07<02:56,  3.68s/it]\u001b[A\n",
            "Training - Epoch:   6% 3/50 [00:11<02:53,  3.69s/it]\u001b[A\n",
            "Training - Epoch:   8% 4/50 [00:14<02:50,  3.71s/it]\u001b[A\n",
            "Training - Epoch:  10% 5/50 [00:18<02:47,  3.72s/it]\u001b[A\n",
            "Training - Epoch:  12% 6/50 [00:22<02:44,  3.74s/it]\u001b[A\n",
            "Training - Epoch:  14% 7/50 [00:26<02:41,  3.75s/it]\u001b[A\n",
            "Training - Epoch:  16% 8/50 [00:29<02:37,  3.74s/it]\u001b[A\n",
            "Training - Epoch:  18% 9/50 [00:33<02:34,  3.76s/it]\u001b[A\n",
            "Training - Epoch:  20% 10/50 [00:37<02:30,  3.76s/it]\u001b[A\n",
            "Training - Epoch:  22% 11/50 [00:41<02:26,  3.76s/it]\u001b[A\n",
            "Training - Epoch:  24% 12/50 [00:44<02:22,  3.76s/it]\u001b[A\n",
            "Training - Epoch:  26% 13/50 [00:48<02:19,  3.77s/it]\u001b[A\n",
            "Training - Epoch:  28% 14/50 [00:52<02:15,  3.77s/it]\u001b[A\n",
            "Training - Epoch:  30% 15/50 [00:56<02:11,  3.76s/it]\u001b[A\n",
            "Training - Epoch:  32% 16/50 [00:59<02:07,  3.74s/it]\u001b[A\n",
            "Training - Epoch:  34% 17/50 [01:03<02:03,  3.74s/it]\u001b[A\n",
            "Training - Epoch:  36% 18/50 [01:07<01:59,  3.75s/it]\u001b[A\n",
            "Training - Epoch:  38% 19/50 [01:11<01:54,  3.71s/it]\u001b[A\n",
            "Training - Epoch:  40% 20/50 [01:14<01:50,  3.68s/it]\u001b[A\n",
            "Training - Epoch:  42% 21/50 [01:18<01:46,  3.68s/it]\u001b[A\n",
            "Training - Epoch:  44% 22/50 [01:21<01:42,  3.65s/it]\u001b[A\n",
            "Training - Epoch:  46% 23/50 [01:25<01:38,  3.64s/it]\u001b[A\n",
            "Training - Epoch:  48% 24/50 [01:29<01:34,  3.64s/it]\u001b[A\n",
            "Training - Epoch:  50% 25/50 [01:32<01:31,  3.64s/it]\u001b[A\n",
            "Training - Epoch:  52% 26/50 [01:36<01:27,  3.65s/it]\u001b[A\n",
            "Training - Epoch:  54% 27/50 [01:40<01:23,  3.64s/it]\u001b[A\n",
            "Training - Epoch:  56% 28/50 [01:43<01:19,  3.62s/it]\u001b[A\n",
            "Training - Epoch:  58% 29/50 [01:47<01:15,  3.62s/it]\u001b[A\n",
            "Training - Epoch:  60% 30/50 [01:50<01:13,  3.65s/it]\u001b[A\n",
            "Training - Epoch:  62% 31/50 [01:54<01:09,  3.67s/it]\u001b[A\n",
            "Training - Epoch:  64% 32/50 [01:58<01:06,  3.67s/it]\u001b[A\n",
            "Training - Epoch:  66% 33/50 [02:02<01:02,  3.69s/it]\u001b[A\n",
            "Training - Epoch:  68% 34/50 [02:05<00:59,  3.71s/it]\u001b[A\n",
            "Training - Epoch:  70% 35/50 [02:09<00:55,  3.73s/it]\u001b[A\n",
            "Training - Epoch:  72% 36/50 [02:13<00:52,  3.74s/it]\u001b[A\n",
            "Training - Epoch:  74% 37/50 [02:17<00:48,  3.73s/it]\u001b[A\n",
            "Training - Epoch:  76% 38/50 [02:20<00:44,  3.71s/it]\u001b[A\n",
            "Training - Epoch:  78% 39/50 [02:24<00:40,  3.68s/it]\u001b[A\n",
            "Training - Epoch:  80% 40/50 [02:28<00:36,  3.68s/it]\u001b[A\n",
            "Training - Epoch:  82% 41/50 [02:31<00:33,  3.69s/it]\u001b[A\n",
            "Training - Epoch:  84% 42/50 [02:35<00:29,  3.67s/it]\u001b[A\n",
            "Training - Epoch:  86% 43/50 [02:39<00:25,  3.68s/it]\u001b[A\n",
            "Training - Epoch:  88% 44/50 [02:42<00:21,  3.67s/it]\u001b[A\n",
            "Training - Epoch:  90% 45/50 [02:46<00:18,  3.67s/it]\u001b[A\n",
            "Training - Epoch:  92% 46/50 [02:50<00:14,  3.69s/it]\u001b[A\n",
            "Training - Epoch:  94% 47/50 [02:53<00:11,  3.68s/it]\u001b[A\n",
            "Training - Epoch:  96% 48/50 [02:57<00:07,  3.67s/it]\u001b[A\n",
            "Training - Epoch:  98% 49/50 [03:01<00:03,  3.67s/it]\u001b[A\n",
            "Training - Epoch: 100% 50/50 [03:04<00:00,  3.70s/it]\n",
            "Training and predicting on several folds: 100% 4/4 [12:21<00:00, 185.40s/it]\n",
            "\n",
            "\u001b[1m\u001b[33mkili:\u001b[0m Number of wrong labels found:  21\n",
            "\u001b[1m\u001b[33mkili:\u001b[0m Updating metadatas for the concerned assets\n",
            "Updating asset metadata with labeling error flag:   0% 0/1 [00:00<?, ?it/s]\n",
            "  0% 0/21 [00:00<?, ?it/s]\u001b[A\n",
            "100% 21/21 [00:00<00:00, 43.69it/s]\n",
            "Updating asset metadata with labeling error flag: 100% 1/1 [00:01<00:00,  1.18s/it]\n"
          ]
        }
      ],
      "source": [
        "!kiliautoml label_errors \\\n",
        "    --api-key {api_key} \\\n",
        "    --project-id {project_id}"
      ]
    },
    {
      "cell_type": "markdown",
      "metadata": {
        "id": "_7xofUWD_iGj"
      },
      "source": [
        "You can see in the project that several uncorrectly labeled images have been spotted."
      ]
    },
    {
      "cell_type": "code",
      "source": [
        "print(f\"{KILI_URL}label/projects/{project_id}/menu/queue?currentPage=1&metadata%5Blabeling_error%5D=true&pageSize=20\")"
      ],
      "metadata": {
        "id": "LLYUoSQdPzkr",
        "outputId": "4eef4f02-b451-454e-fa33-66d66006f67f",
        "colab": {
          "base_uri": "https://localhost:8080/"
        }
      },
      "execution_count": 41,
      "outputs": [
        {
          "output_type": "stream",
          "name": "stdout",
          "text": [
            "https://cloud.kili-technology.com/label/projects/cl48kw7rx07e70lm9ejgn9fvg/menu/queue?currentPage=1&metadata%5Blabeling_error%5D=true&pageSize=20\n"
          ]
        }
      ]
    }
  ],
  "metadata": {
    "accelerator": "GPU",
    "colab": {
      "name": "Copie de image_classification.ipynb",
      "provenance": [],
      "include_colab_link": true
    },
    "interpreter": {
      "hash": "449e565a27a23acd15c32e769a07661ae193905e7f288056cccc0b6a403de553"
    },
    "kernelspec": {
      "display_name": "Python 3.9.12 ('automl')",
      "language": "python",
      "name": "python3"
    },
    "language_info": {
      "codemirror_mode": {
        "name": "ipython",
        "version": 3
      },
      "file_extension": ".py",
      "mimetype": "text/x-python",
      "name": "python",
      "nbconvert_exporter": "python",
      "pygments_lexer": "ipython3",
      "version": "3.7.13"
    },
    "widgets": {
      "application/vnd.jupyter.widget-state+json": {
        "04777e1d60864f9db52a04584976ab4a": {
          "model_module": "@jupyter-widgets/controls",
          "model_name": "HBoxModel",
          "model_module_version": "1.5.0",
          "state": {
            "_dom_classes": [],
            "_model_module": "@jupyter-widgets/controls",
            "_model_module_version": "1.5.0",
            "_model_name": "HBoxModel",
            "_view_count": null,
            "_view_module": "@jupyter-widgets/controls",
            "_view_module_version": "1.5.0",
            "_view_name": "HBoxView",
            "box_style": "",
            "children": [
              "IPY_MODEL_90532c73edce4865809ff4670f71a622",
              "IPY_MODEL_92776c3f99894fd28c2684a4dfb40404",
              "IPY_MODEL_64808c979dc945598bdd747dbba4c691"
            ],
            "layout": "IPY_MODEL_e84aff33e07143a397e0a09cbdcb94a5"
          }
        },
        "90532c73edce4865809ff4670f71a622": {
          "model_module": "@jupyter-widgets/controls",
          "model_name": "HTMLModel",
          "model_module_version": "1.5.0",
          "state": {
            "_dom_classes": [],
            "_model_module": "@jupyter-widgets/controls",
            "_model_module_version": "1.5.0",
            "_model_name": "HTMLModel",
            "_view_count": null,
            "_view_module": "@jupyter-widgets/controls",
            "_view_module_version": "1.5.0",
            "_view_name": "HTMLView",
            "description": "",
            "description_tooltip": null,
            "layout": "IPY_MODEL_c8f5d373e1dc44b69113e43e6b6d33da",
            "placeholder": "​",
            "style": "IPY_MODEL_9064495e8a9a4335ae0f733dff3dc8d2",
            "value": "100%"
          }
        },
        "92776c3f99894fd28c2684a4dfb40404": {
          "model_module": "@jupyter-widgets/controls",
          "model_name": "FloatProgressModel",
          "model_module_version": "1.5.0",
          "state": {
            "_dom_classes": [],
            "_model_module": "@jupyter-widgets/controls",
            "_model_module_version": "1.5.0",
            "_model_name": "FloatProgressModel",
            "_view_count": null,
            "_view_module": "@jupyter-widgets/controls",
            "_view_module_version": "1.5.0",
            "_view_name": "ProgressView",
            "bar_style": "success",
            "description": "",
            "description_tooltip": null,
            "layout": "IPY_MODEL_d6605149a467450886f538e9c53e2579",
            "max": 1000,
            "min": 0,
            "orientation": "horizontal",
            "style": "IPY_MODEL_4b62c067049643fa98e1cf74df216ad7",
            "value": 1000
          }
        },
        "64808c979dc945598bdd747dbba4c691": {
          "model_module": "@jupyter-widgets/controls",
          "model_name": "HTMLModel",
          "model_module_version": "1.5.0",
          "state": {
            "_dom_classes": [],
            "_model_module": "@jupyter-widgets/controls",
            "_model_module_version": "1.5.0",
            "_model_name": "HTMLModel",
            "_view_count": null,
            "_view_module": "@jupyter-widgets/controls",
            "_view_module_version": "1.5.0",
            "_view_name": "HTMLView",
            "description": "",
            "description_tooltip": null,
            "layout": "IPY_MODEL_05706e7b3db9479881ae60d7b6035018",
            "placeholder": "​",
            "style": "IPY_MODEL_3afc9f9bdd1c4ef7b5e451dd7d65d75c",
            "value": " 1000/1000 [02:57&lt;00:00,  3.58it/s]"
          }
        },
        "e84aff33e07143a397e0a09cbdcb94a5": {
          "model_module": "@jupyter-widgets/base",
          "model_name": "LayoutModel",
          "model_module_version": "1.2.0",
          "state": {
            "_model_module": "@jupyter-widgets/base",
            "_model_module_version": "1.2.0",
            "_model_name": "LayoutModel",
            "_view_count": null,
            "_view_module": "@jupyter-widgets/base",
            "_view_module_version": "1.2.0",
            "_view_name": "LayoutView",
            "align_content": null,
            "align_items": null,
            "align_self": null,
            "border": null,
            "bottom": null,
            "display": null,
            "flex": null,
            "flex_flow": null,
            "grid_area": null,
            "grid_auto_columns": null,
            "grid_auto_flow": null,
            "grid_auto_rows": null,
            "grid_column": null,
            "grid_gap": null,
            "grid_row": null,
            "grid_template_areas": null,
            "grid_template_columns": null,
            "grid_template_rows": null,
            "height": null,
            "justify_content": null,
            "justify_items": null,
            "left": null,
            "margin": null,
            "max_height": null,
            "max_width": null,
            "min_height": null,
            "min_width": null,
            "object_fit": null,
            "object_position": null,
            "order": null,
            "overflow": null,
            "overflow_x": null,
            "overflow_y": null,
            "padding": null,
            "right": null,
            "top": null,
            "visibility": null,
            "width": null
          }
        },
        "c8f5d373e1dc44b69113e43e6b6d33da": {
          "model_module": "@jupyter-widgets/base",
          "model_name": "LayoutModel",
          "model_module_version": "1.2.0",
          "state": {
            "_model_module": "@jupyter-widgets/base",
            "_model_module_version": "1.2.0",
            "_model_name": "LayoutModel",
            "_view_count": null,
            "_view_module": "@jupyter-widgets/base",
            "_view_module_version": "1.2.0",
            "_view_name": "LayoutView",
            "align_content": null,
            "align_items": null,
            "align_self": null,
            "border": null,
            "bottom": null,
            "display": null,
            "flex": null,
            "flex_flow": null,
            "grid_area": null,
            "grid_auto_columns": null,
            "grid_auto_flow": null,
            "grid_auto_rows": null,
            "grid_column": null,
            "grid_gap": null,
            "grid_row": null,
            "grid_template_areas": null,
            "grid_template_columns": null,
            "grid_template_rows": null,
            "height": null,
            "justify_content": null,
            "justify_items": null,
            "left": null,
            "margin": null,
            "max_height": null,
            "max_width": null,
            "min_height": null,
            "min_width": null,
            "object_fit": null,
            "object_position": null,
            "order": null,
            "overflow": null,
            "overflow_x": null,
            "overflow_y": null,
            "padding": null,
            "right": null,
            "top": null,
            "visibility": null,
            "width": null
          }
        },
        "9064495e8a9a4335ae0f733dff3dc8d2": {
          "model_module": "@jupyter-widgets/controls",
          "model_name": "DescriptionStyleModel",
          "model_module_version": "1.5.0",
          "state": {
            "_model_module": "@jupyter-widgets/controls",
            "_model_module_version": "1.5.0",
            "_model_name": "DescriptionStyleModel",
            "_view_count": null,
            "_view_module": "@jupyter-widgets/base",
            "_view_module_version": "1.2.0",
            "_view_name": "StyleView",
            "description_width": ""
          }
        },
        "d6605149a467450886f538e9c53e2579": {
          "model_module": "@jupyter-widgets/base",
          "model_name": "LayoutModel",
          "model_module_version": "1.2.0",
          "state": {
            "_model_module": "@jupyter-widgets/base",
            "_model_module_version": "1.2.0",
            "_model_name": "LayoutModel",
            "_view_count": null,
            "_view_module": "@jupyter-widgets/base",
            "_view_module_version": "1.2.0",
            "_view_name": "LayoutView",
            "align_content": null,
            "align_items": null,
            "align_self": null,
            "border": null,
            "bottom": null,
            "display": null,
            "flex": null,
            "flex_flow": null,
            "grid_area": null,
            "grid_auto_columns": null,
            "grid_auto_flow": null,
            "grid_auto_rows": null,
            "grid_column": null,
            "grid_gap": null,
            "grid_row": null,
            "grid_template_areas": null,
            "grid_template_columns": null,
            "grid_template_rows": null,
            "height": null,
            "justify_content": null,
            "justify_items": null,
            "left": null,
            "margin": null,
            "max_height": null,
            "max_width": null,
            "min_height": null,
            "min_width": null,
            "object_fit": null,
            "object_position": null,
            "order": null,
            "overflow": null,
            "overflow_x": null,
            "overflow_y": null,
            "padding": null,
            "right": null,
            "top": null,
            "visibility": null,
            "width": null
          }
        },
        "4b62c067049643fa98e1cf74df216ad7": {
          "model_module": "@jupyter-widgets/controls",
          "model_name": "ProgressStyleModel",
          "model_module_version": "1.5.0",
          "state": {
            "_model_module": "@jupyter-widgets/controls",
            "_model_module_version": "1.5.0",
            "_model_name": "ProgressStyleModel",
            "_view_count": null,
            "_view_module": "@jupyter-widgets/base",
            "_view_module_version": "1.2.0",
            "_view_name": "StyleView",
            "bar_color": null,
            "description_width": ""
          }
        },
        "05706e7b3db9479881ae60d7b6035018": {
          "model_module": "@jupyter-widgets/base",
          "model_name": "LayoutModel",
          "model_module_version": "1.2.0",
          "state": {
            "_model_module": "@jupyter-widgets/base",
            "_model_module_version": "1.2.0",
            "_model_name": "LayoutModel",
            "_view_count": null,
            "_view_module": "@jupyter-widgets/base",
            "_view_module_version": "1.2.0",
            "_view_name": "LayoutView",
            "align_content": null,
            "align_items": null,
            "align_self": null,
            "border": null,
            "bottom": null,
            "display": null,
            "flex": null,
            "flex_flow": null,
            "grid_area": null,
            "grid_auto_columns": null,
            "grid_auto_flow": null,
            "grid_auto_rows": null,
            "grid_column": null,
            "grid_gap": null,
            "grid_row": null,
            "grid_template_areas": null,
            "grid_template_columns": null,
            "grid_template_rows": null,
            "height": null,
            "justify_content": null,
            "justify_items": null,
            "left": null,
            "margin": null,
            "max_height": null,
            "max_width": null,
            "min_height": null,
            "min_width": null,
            "object_fit": null,
            "object_position": null,
            "order": null,
            "overflow": null,
            "overflow_x": null,
            "overflow_y": null,
            "padding": null,
            "right": null,
            "top": null,
            "visibility": null,
            "width": null
          }
        },
        "3afc9f9bdd1c4ef7b5e451dd7d65d75c": {
          "model_module": "@jupyter-widgets/controls",
          "model_name": "DescriptionStyleModel",
          "model_module_version": "1.5.0",
          "state": {
            "_model_module": "@jupyter-widgets/controls",
            "_model_module_version": "1.5.0",
            "_model_name": "DescriptionStyleModel",
            "_view_count": null,
            "_view_module": "@jupyter-widgets/base",
            "_view_module_version": "1.2.0",
            "_view_name": "StyleView",
            "description_width": ""
          }
        },
        "736dd37287df4f8dbfab77469741dc87": {
          "model_module": "@jupyter-widgets/controls",
          "model_name": "HBoxModel",
          "model_module_version": "1.5.0",
          "state": {
            "_dom_classes": [],
            "_model_module": "@jupyter-widgets/controls",
            "_model_module_version": "1.5.0",
            "_model_name": "HBoxModel",
            "_view_count": null,
            "_view_module": "@jupyter-widgets/controls",
            "_view_module_version": "1.5.0",
            "_view_name": "HBoxView",
            "box_style": "",
            "children": [
              "IPY_MODEL_7cd88ba91ce648b998b7f4e8c8d90c93",
              "IPY_MODEL_463f36759b1a43ee9b46f7ee055c389d",
              "IPY_MODEL_c624defc6d0840ffa27a4c985cba8e3f"
            ],
            "layout": "IPY_MODEL_164b227894b7437c8c6e332d7a913ea9"
          }
        },
        "7cd88ba91ce648b998b7f4e8c8d90c93": {
          "model_module": "@jupyter-widgets/controls",
          "model_name": "HTMLModel",
          "model_module_version": "1.5.0",
          "state": {
            "_dom_classes": [],
            "_model_module": "@jupyter-widgets/controls",
            "_model_module_version": "1.5.0",
            "_model_name": "HTMLModel",
            "_view_count": null,
            "_view_module": "@jupyter-widgets/controls",
            "_view_module_version": "1.5.0",
            "_view_name": "HTMLView",
            "description": "",
            "description_tooltip": null,
            "layout": "IPY_MODEL_f80b2ebe44424dc9ace7b4e2af6a170a",
            "placeholder": "​",
            "style": "IPY_MODEL_54113bad8329474db3b9ae05d863e14a",
            "value": "100%"
          }
        },
        "463f36759b1a43ee9b46f7ee055c389d": {
          "model_module": "@jupyter-widgets/controls",
          "model_name": "FloatProgressModel",
          "model_module_version": "1.5.0",
          "state": {
            "_dom_classes": [],
            "_model_module": "@jupyter-widgets/controls",
            "_model_module_version": "1.5.0",
            "_model_name": "FloatProgressModel",
            "_view_count": null,
            "_view_module": "@jupyter-widgets/controls",
            "_view_module_version": "1.5.0",
            "_view_name": "ProgressView",
            "bar_style": "success",
            "description": "",
            "description_tooltip": null,
            "layout": "IPY_MODEL_cbfc3894fa93462094c920064eab9592",
            "max": 1000,
            "min": 0,
            "orientation": "horizontal",
            "style": "IPY_MODEL_530c39504d1443edbd060f1c2f8e41d5",
            "value": 1000
          }
        },
        "c624defc6d0840ffa27a4c985cba8e3f": {
          "model_module": "@jupyter-widgets/controls",
          "model_name": "HTMLModel",
          "model_module_version": "1.5.0",
          "state": {
            "_dom_classes": [],
            "_model_module": "@jupyter-widgets/controls",
            "_model_module_version": "1.5.0",
            "_model_name": "HTMLModel",
            "_view_count": null,
            "_view_module": "@jupyter-widgets/controls",
            "_view_module_version": "1.5.0",
            "_view_name": "HTMLView",
            "description": "",
            "description_tooltip": null,
            "layout": "IPY_MODEL_9b46176d7f494c30928f56961eff54c7",
            "placeholder": "​",
            "style": "IPY_MODEL_cdd21b6a66f44be3aa62678b852f19da",
            "value": " 1000/1000 [00:08&lt;00:00, 74.61it/s]"
          }
        },
        "164b227894b7437c8c6e332d7a913ea9": {
          "model_module": "@jupyter-widgets/base",
          "model_name": "LayoutModel",
          "model_module_version": "1.2.0",
          "state": {
            "_model_module": "@jupyter-widgets/base",
            "_model_module_version": "1.2.0",
            "_model_name": "LayoutModel",
            "_view_count": null,
            "_view_module": "@jupyter-widgets/base",
            "_view_module_version": "1.2.0",
            "_view_name": "LayoutView",
            "align_content": null,
            "align_items": null,
            "align_self": null,
            "border": null,
            "bottom": null,
            "display": null,
            "flex": null,
            "flex_flow": null,
            "grid_area": null,
            "grid_auto_columns": null,
            "grid_auto_flow": null,
            "grid_auto_rows": null,
            "grid_column": null,
            "grid_gap": null,
            "grid_row": null,
            "grid_template_areas": null,
            "grid_template_columns": null,
            "grid_template_rows": null,
            "height": null,
            "justify_content": null,
            "justify_items": null,
            "left": null,
            "margin": null,
            "max_height": null,
            "max_width": null,
            "min_height": null,
            "min_width": null,
            "object_fit": null,
            "object_position": null,
            "order": null,
            "overflow": null,
            "overflow_x": null,
            "overflow_y": null,
            "padding": null,
            "right": null,
            "top": null,
            "visibility": null,
            "width": null
          }
        },
        "f80b2ebe44424dc9ace7b4e2af6a170a": {
          "model_module": "@jupyter-widgets/base",
          "model_name": "LayoutModel",
          "model_module_version": "1.2.0",
          "state": {
            "_model_module": "@jupyter-widgets/base",
            "_model_module_version": "1.2.0",
            "_model_name": "LayoutModel",
            "_view_count": null,
            "_view_module": "@jupyter-widgets/base",
            "_view_module_version": "1.2.0",
            "_view_name": "LayoutView",
            "align_content": null,
            "align_items": null,
            "align_self": null,
            "border": null,
            "bottom": null,
            "display": null,
            "flex": null,
            "flex_flow": null,
            "grid_area": null,
            "grid_auto_columns": null,
            "grid_auto_flow": null,
            "grid_auto_rows": null,
            "grid_column": null,
            "grid_gap": null,
            "grid_row": null,
            "grid_template_areas": null,
            "grid_template_columns": null,
            "grid_template_rows": null,
            "height": null,
            "justify_content": null,
            "justify_items": null,
            "left": null,
            "margin": null,
            "max_height": null,
            "max_width": null,
            "min_height": null,
            "min_width": null,
            "object_fit": null,
            "object_position": null,
            "order": null,
            "overflow": null,
            "overflow_x": null,
            "overflow_y": null,
            "padding": null,
            "right": null,
            "top": null,
            "visibility": null,
            "width": null
          }
        },
        "54113bad8329474db3b9ae05d863e14a": {
          "model_module": "@jupyter-widgets/controls",
          "model_name": "DescriptionStyleModel",
          "model_module_version": "1.5.0",
          "state": {
            "_model_module": "@jupyter-widgets/controls",
            "_model_module_version": "1.5.0",
            "_model_name": "DescriptionStyleModel",
            "_view_count": null,
            "_view_module": "@jupyter-widgets/base",
            "_view_module_version": "1.2.0",
            "_view_name": "StyleView",
            "description_width": ""
          }
        },
        "cbfc3894fa93462094c920064eab9592": {
          "model_module": "@jupyter-widgets/base",
          "model_name": "LayoutModel",
          "model_module_version": "1.2.0",
          "state": {
            "_model_module": "@jupyter-widgets/base",
            "_model_module_version": "1.2.0",
            "_model_name": "LayoutModel",
            "_view_count": null,
            "_view_module": "@jupyter-widgets/base",
            "_view_module_version": "1.2.0",
            "_view_name": "LayoutView",
            "align_content": null,
            "align_items": null,
            "align_self": null,
            "border": null,
            "bottom": null,
            "display": null,
            "flex": null,
            "flex_flow": null,
            "grid_area": null,
            "grid_auto_columns": null,
            "grid_auto_flow": null,
            "grid_auto_rows": null,
            "grid_column": null,
            "grid_gap": null,
            "grid_row": null,
            "grid_template_areas": null,
            "grid_template_columns": null,
            "grid_template_rows": null,
            "height": null,
            "justify_content": null,
            "justify_items": null,
            "left": null,
            "margin": null,
            "max_height": null,
            "max_width": null,
            "min_height": null,
            "min_width": null,
            "object_fit": null,
            "object_position": null,
            "order": null,
            "overflow": null,
            "overflow_x": null,
            "overflow_y": null,
            "padding": null,
            "right": null,
            "top": null,
            "visibility": null,
            "width": null
          }
        },
        "530c39504d1443edbd060f1c2f8e41d5": {
          "model_module": "@jupyter-widgets/controls",
          "model_name": "ProgressStyleModel",
          "model_module_version": "1.5.0",
          "state": {
            "_model_module": "@jupyter-widgets/controls",
            "_model_module_version": "1.5.0",
            "_model_name": "ProgressStyleModel",
            "_view_count": null,
            "_view_module": "@jupyter-widgets/base",
            "_view_module_version": "1.2.0",
            "_view_name": "StyleView",
            "bar_color": null,
            "description_width": ""
          }
        },
        "9b46176d7f494c30928f56961eff54c7": {
          "model_module": "@jupyter-widgets/base",
          "model_name": "LayoutModel",
          "model_module_version": "1.2.0",
          "state": {
            "_model_module": "@jupyter-widgets/base",
            "_model_module_version": "1.2.0",
            "_model_name": "LayoutModel",
            "_view_count": null,
            "_view_module": "@jupyter-widgets/base",
            "_view_module_version": "1.2.0",
            "_view_name": "LayoutView",
            "align_content": null,
            "align_items": null,
            "align_self": null,
            "border": null,
            "bottom": null,
            "display": null,
            "flex": null,
            "flex_flow": null,
            "grid_area": null,
            "grid_auto_columns": null,
            "grid_auto_flow": null,
            "grid_auto_rows": null,
            "grid_column": null,
            "grid_gap": null,
            "grid_row": null,
            "grid_template_areas": null,
            "grid_template_columns": null,
            "grid_template_rows": null,
            "height": null,
            "justify_content": null,
            "justify_items": null,
            "left": null,
            "margin": null,
            "max_height": null,
            "max_width": null,
            "min_height": null,
            "min_width": null,
            "object_fit": null,
            "object_position": null,
            "order": null,
            "overflow": null,
            "overflow_x": null,
            "overflow_y": null,
            "padding": null,
            "right": null,
            "top": null,
            "visibility": null,
            "width": null
          }
        },
        "cdd21b6a66f44be3aa62678b852f19da": {
          "model_module": "@jupyter-widgets/controls",
          "model_name": "DescriptionStyleModel",
          "model_module_version": "1.5.0",
          "state": {
            "_model_module": "@jupyter-widgets/controls",
            "_model_module_version": "1.5.0",
            "_model_name": "DescriptionStyleModel",
            "_view_count": null,
            "_view_module": "@jupyter-widgets/base",
            "_view_module_version": "1.2.0",
            "_view_name": "StyleView",
            "description_width": ""
          }
        }
      }
    }
  },
  "nbformat": 4,
  "nbformat_minor": 0
}